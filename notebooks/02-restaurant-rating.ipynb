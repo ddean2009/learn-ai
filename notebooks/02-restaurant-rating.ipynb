{
 "cells": [
  {
   "cell_type": "markdown",
   "metadata": {
    "collapsed": true,
    "pycharm": {
     "name": "#%% md\n"
    }
   },
   "source": [
    "## 美国餐厅评分数据分析"
   ]
  },
  {
   "cell_type": "code",
   "execution_count": 4,
   "outputs": [],
   "source": [
    "from numpy.random import randn\n",
    "import numpy as np\n",
    "np.random.seed(123)\n",
    "import os\n",
    "import matplotlib.pyplot as plt\n",
    "import pandas as pd\n",
    "plt.rc('figure', figsize=(10, 6))\n",
    "np.set_printoptions(precision=4)\n",
    "pd.options.display.max_rows = 10"
   ],
   "metadata": {
    "collapsed": false,
    "pycharm": {
     "name": "#%%\n"
    }
   }
  },
  {
   "cell_type": "code",
   "execution_count": 5,
   "outputs": [
    {
     "data": {
      "text/plain": "     userID  placeID  rating  food_rating  service_rating\n0     U1077   135085       2            2               2\n1     U1077   135038       2            2               1\n2     U1077   132825       2            2               2\n3     U1077   135060       1            2               2\n4     U1068   135104       1            1               2\n...     ...      ...     ...          ...             ...\n1156  U1043   132630       1            1               1\n1157  U1011   132715       1            1               0\n1158  U1068   132733       1            1               0\n1159  U1068   132594       1            1               1\n1160  U1068   132660       0            0               0\n\n[1161 rows x 5 columns]",
      "text/html": "<div>\n<style scoped>\n    .dataframe tbody tr th:only-of-type {\n        vertical-align: middle;\n    }\n\n    .dataframe tbody tr th {\n        vertical-align: top;\n    }\n\n    .dataframe thead th {\n        text-align: right;\n    }\n</style>\n<table border=\"1\" class=\"dataframe\">\n  <thead>\n    <tr style=\"text-align: right;\">\n      <th></th>\n      <th>userID</th>\n      <th>placeID</th>\n      <th>rating</th>\n      <th>food_rating</th>\n      <th>service_rating</th>\n    </tr>\n  </thead>\n  <tbody>\n    <tr>\n      <th>0</th>\n      <td>U1077</td>\n      <td>135085</td>\n      <td>2</td>\n      <td>2</td>\n      <td>2</td>\n    </tr>\n    <tr>\n      <th>1</th>\n      <td>U1077</td>\n      <td>135038</td>\n      <td>2</td>\n      <td>2</td>\n      <td>1</td>\n    </tr>\n    <tr>\n      <th>2</th>\n      <td>U1077</td>\n      <td>132825</td>\n      <td>2</td>\n      <td>2</td>\n      <td>2</td>\n    </tr>\n    <tr>\n      <th>3</th>\n      <td>U1077</td>\n      <td>135060</td>\n      <td>1</td>\n      <td>2</td>\n      <td>2</td>\n    </tr>\n    <tr>\n      <th>4</th>\n      <td>U1068</td>\n      <td>135104</td>\n      <td>1</td>\n      <td>1</td>\n      <td>2</td>\n    </tr>\n    <tr>\n      <th>...</th>\n      <td>...</td>\n      <td>...</td>\n      <td>...</td>\n      <td>...</td>\n      <td>...</td>\n    </tr>\n    <tr>\n      <th>1156</th>\n      <td>U1043</td>\n      <td>132630</td>\n      <td>1</td>\n      <td>1</td>\n      <td>1</td>\n    </tr>\n    <tr>\n      <th>1157</th>\n      <td>U1011</td>\n      <td>132715</td>\n      <td>1</td>\n      <td>1</td>\n      <td>0</td>\n    </tr>\n    <tr>\n      <th>1158</th>\n      <td>U1068</td>\n      <td>132733</td>\n      <td>1</td>\n      <td>1</td>\n      <td>0</td>\n    </tr>\n    <tr>\n      <th>1159</th>\n      <td>U1068</td>\n      <td>132594</td>\n      <td>1</td>\n      <td>1</td>\n      <td>1</td>\n    </tr>\n    <tr>\n      <th>1160</th>\n      <td>U1068</td>\n      <td>132660</td>\n      <td>0</td>\n      <td>0</td>\n      <td>0</td>\n    </tr>\n  </tbody>\n</table>\n<p>1161 rows × 5 columns</p>\n</div>"
     },
     "execution_count": 5,
     "metadata": {},
     "output_type": "execute_result"
    }
   ],
   "source": [
    "path = '../data/restaurant_rating_final.csv'\n",
    "df = pd.read_csv(path)\n",
    "df"
   ],
   "metadata": {
    "collapsed": false,
    "pycharm": {
     "name": "#%%\n"
    }
   }
  },
  {
   "cell_type": "code",
   "execution_count": 19,
   "outputs": [
    {
     "data": {
      "text/plain": "         food_rating  rating\nplaceID                     \n132560          1.00    0.50\n132561          1.00    0.75\n132564          1.25    1.25\n132572          1.00    1.00\n132583          1.00    1.00",
      "text/html": "<div>\n<style scoped>\n    .dataframe tbody tr th:only-of-type {\n        vertical-align: middle;\n    }\n\n    .dataframe tbody tr th {\n        vertical-align: top;\n    }\n\n    .dataframe thead th {\n        text-align: right;\n    }\n</style>\n<table border=\"1\" class=\"dataframe\">\n  <thead>\n    <tr style=\"text-align: right;\">\n      <th></th>\n      <th>food_rating</th>\n      <th>rating</th>\n    </tr>\n    <tr>\n      <th>placeID</th>\n      <th></th>\n      <th></th>\n    </tr>\n  </thead>\n  <tbody>\n    <tr>\n      <th>132560</th>\n      <td>1.00</td>\n      <td>0.50</td>\n    </tr>\n    <tr>\n      <th>132561</th>\n      <td>1.00</td>\n      <td>0.75</td>\n    </tr>\n    <tr>\n      <th>132564</th>\n      <td>1.25</td>\n      <td>1.25</td>\n    </tr>\n    <tr>\n      <th>132572</th>\n      <td>1.00</td>\n      <td>1.00</td>\n    </tr>\n    <tr>\n      <th>132583</th>\n      <td>1.00</td>\n      <td>1.00</td>\n    </tr>\n  </tbody>\n</table>\n</div>"
     },
     "execution_count": 19,
     "metadata": {},
     "output_type": "execute_result"
    }
   ],
   "source": [
    "mean_ratings = df.pivot_table(values=['rating','food_rating'], index='placeID',\n",
    "                                 aggfunc='mean')\n",
    "mean_ratings[:5]"
   ],
   "metadata": {
    "collapsed": false,
    "pycharm": {
     "name": "#%%\n"
    }
   }
  },
  {
   "cell_type": "code",
   "execution_count": 20,
   "outputs": [
    {
     "data": {
      "text/plain": "placeID\n132560     4\n132561     4\n132564     4\n132572    15\n132583     4\n132584     6\n132594     5\n132608     6\n132609     5\n132613     6\ndtype: int64"
     },
     "execution_count": 20,
     "metadata": {},
     "output_type": "execute_result"
    }
   ],
   "source": [
    "ratings_by_place = df.groupby('placeID').size()\n",
    "ratings_by_place[:10]"
   ],
   "metadata": {
    "collapsed": false,
    "pycharm": {
     "name": "#%%\n"
    }
   }
  },
  {
   "cell_type": "code",
   "execution_count": 21,
   "outputs": [
    {
     "data": {
      "text/plain": "Int64Index([132560, 132561, 132564, 132572, 132583, 132584, 132594, 132608,\n            132609, 132613,\n            ...\n            135080, 135081, 135082, 135085, 135086, 135088, 135104, 135106,\n            135108, 135109],\n           dtype='int64', name='placeID', length=124)"
     },
     "execution_count": 21,
     "metadata": {},
     "output_type": "execute_result"
    }
   ],
   "source": [
    "active_place = ratings_by_place.index[ratings_by_place >= 4]\n",
    "active_place"
   ],
   "metadata": {
    "collapsed": false,
    "pycharm": {
     "name": "#%%\n"
    }
   }
  },
  {
   "cell_type": "code",
   "execution_count": 22,
   "outputs": [
    {
     "data": {
      "text/plain": "         food_rating    rating\nplaceID                       \n132560      1.000000  0.500000\n132561      1.000000  0.750000\n132564      1.250000  1.250000\n132572      1.000000  1.000000\n132583      1.000000  1.000000\n...              ...       ...\n135088      1.166667  1.000000\n135104      1.428571  0.857143\n135106      1.200000  1.200000\n135108      1.181818  1.181818\n135109      1.250000  1.000000\n\n[124 rows x 2 columns]",
      "text/html": "<div>\n<style scoped>\n    .dataframe tbody tr th:only-of-type {\n        vertical-align: middle;\n    }\n\n    .dataframe tbody tr th {\n        vertical-align: top;\n    }\n\n    .dataframe thead th {\n        text-align: right;\n    }\n</style>\n<table border=\"1\" class=\"dataframe\">\n  <thead>\n    <tr style=\"text-align: right;\">\n      <th></th>\n      <th>food_rating</th>\n      <th>rating</th>\n    </tr>\n    <tr>\n      <th>placeID</th>\n      <th></th>\n      <th></th>\n    </tr>\n  </thead>\n  <tbody>\n    <tr>\n      <th>132560</th>\n      <td>1.000000</td>\n      <td>0.500000</td>\n    </tr>\n    <tr>\n      <th>132561</th>\n      <td>1.000000</td>\n      <td>0.750000</td>\n    </tr>\n    <tr>\n      <th>132564</th>\n      <td>1.250000</td>\n      <td>1.250000</td>\n    </tr>\n    <tr>\n      <th>132572</th>\n      <td>1.000000</td>\n      <td>1.000000</td>\n    </tr>\n    <tr>\n      <th>132583</th>\n      <td>1.000000</td>\n      <td>1.000000</td>\n    </tr>\n    <tr>\n      <th>...</th>\n      <td>...</td>\n      <td>...</td>\n    </tr>\n    <tr>\n      <th>135088</th>\n      <td>1.166667</td>\n      <td>1.000000</td>\n    </tr>\n    <tr>\n      <th>135104</th>\n      <td>1.428571</td>\n      <td>0.857143</td>\n    </tr>\n    <tr>\n      <th>135106</th>\n      <td>1.200000</td>\n      <td>1.200000</td>\n    </tr>\n    <tr>\n      <th>135108</th>\n      <td>1.181818</td>\n      <td>1.181818</td>\n    </tr>\n    <tr>\n      <th>135109</th>\n      <td>1.250000</td>\n      <td>1.000000</td>\n    </tr>\n  </tbody>\n</table>\n<p>124 rows × 2 columns</p>\n</div>"
     },
     "execution_count": 22,
     "metadata": {},
     "output_type": "execute_result"
    }
   ],
   "source": [
    "# Select rows on the index\n",
    "mean_ratings = mean_ratings.loc[active_place]\n",
    "mean_ratings"
   ],
   "metadata": {
    "collapsed": false,
    "pycharm": {
     "name": "#%%\n"
    }
   }
  },
  {
   "cell_type": "code",
   "execution_count": 23,
   "outputs": [
    {
     "data": {
      "text/plain": "         food_rating    rating\nplaceID                       \n132955      1.800000  2.000000\n135034      2.000000  2.000000\n134986      2.000000  2.000000\n132922      1.500000  1.833333\n132755      2.000000  1.800000\n135074      1.750000  1.750000\n135013      2.000000  1.750000\n134976      1.750000  1.750000\n135055      1.714286  1.714286\n135075      1.692308  1.692308",
      "text/html": "<div>\n<style scoped>\n    .dataframe tbody tr th:only-of-type {\n        vertical-align: middle;\n    }\n\n    .dataframe tbody tr th {\n        vertical-align: top;\n    }\n\n    .dataframe thead th {\n        text-align: right;\n    }\n</style>\n<table border=\"1\" class=\"dataframe\">\n  <thead>\n    <tr style=\"text-align: right;\">\n      <th></th>\n      <th>food_rating</th>\n      <th>rating</th>\n    </tr>\n    <tr>\n      <th>placeID</th>\n      <th></th>\n      <th></th>\n    </tr>\n  </thead>\n  <tbody>\n    <tr>\n      <th>132955</th>\n      <td>1.800000</td>\n      <td>2.000000</td>\n    </tr>\n    <tr>\n      <th>135034</th>\n      <td>2.000000</td>\n      <td>2.000000</td>\n    </tr>\n    <tr>\n      <th>134986</th>\n      <td>2.000000</td>\n      <td>2.000000</td>\n    </tr>\n    <tr>\n      <th>132922</th>\n      <td>1.500000</td>\n      <td>1.833333</td>\n    </tr>\n    <tr>\n      <th>132755</th>\n      <td>2.000000</td>\n      <td>1.800000</td>\n    </tr>\n    <tr>\n      <th>135074</th>\n      <td>1.750000</td>\n      <td>1.750000</td>\n    </tr>\n    <tr>\n      <th>135013</th>\n      <td>2.000000</td>\n      <td>1.750000</td>\n    </tr>\n    <tr>\n      <th>134976</th>\n      <td>1.750000</td>\n      <td>1.750000</td>\n    </tr>\n    <tr>\n      <th>135055</th>\n      <td>1.714286</td>\n      <td>1.714286</td>\n    </tr>\n    <tr>\n      <th>135075</th>\n      <td>1.692308</td>\n      <td>1.692308</td>\n    </tr>\n  </tbody>\n</table>\n</div>"
     },
     "execution_count": 23,
     "metadata": {},
     "output_type": "execute_result"
    }
   ],
   "source": [
    "top_ratings = mean_ratings.sort_values(by='rating', ascending=False)\n",
    "top_ratings[:10]"
   ],
   "metadata": {
    "collapsed": false,
    "pycharm": {
     "name": "#%%\n"
    }
   }
  },
  {
   "cell_type": "code",
   "execution_count": 24,
   "outputs": [],
   "source": [
    "mean_ratings['diff'] = mean_ratings['rating'] - mean_ratings['food_rating']"
   ],
   "metadata": {
    "collapsed": false,
    "pycharm": {
     "name": "#%%\n"
    }
   }
  },
  {
   "cell_type": "code",
   "execution_count": 25,
   "outputs": [
    {
     "data": {
      "text/plain": "         food_rating    rating      diff\nplaceID                                 \n132667      2.000000  1.250000 -0.750000\n132594      1.200000  0.600000 -0.600000\n132858      1.400000  0.800000 -0.600000\n135104      1.428571  0.857143 -0.571429\n132560      1.000000  0.500000 -0.500000\n135027      1.375000  0.875000 -0.500000\n132740      1.250000  0.750000 -0.500000\n134992      1.500000  1.000000 -0.500000\n132706      1.250000  0.750000 -0.500000\n132870      1.000000  0.600000 -0.400000",
      "text/html": "<div>\n<style scoped>\n    .dataframe tbody tr th:only-of-type {\n        vertical-align: middle;\n    }\n\n    .dataframe tbody tr th {\n        vertical-align: top;\n    }\n\n    .dataframe thead th {\n        text-align: right;\n    }\n</style>\n<table border=\"1\" class=\"dataframe\">\n  <thead>\n    <tr style=\"text-align: right;\">\n      <th></th>\n      <th>food_rating</th>\n      <th>rating</th>\n      <th>diff</th>\n    </tr>\n    <tr>\n      <th>placeID</th>\n      <th></th>\n      <th></th>\n      <th></th>\n    </tr>\n  </thead>\n  <tbody>\n    <tr>\n      <th>132667</th>\n      <td>2.000000</td>\n      <td>1.250000</td>\n      <td>-0.750000</td>\n    </tr>\n    <tr>\n      <th>132594</th>\n      <td>1.200000</td>\n      <td>0.600000</td>\n      <td>-0.600000</td>\n    </tr>\n    <tr>\n      <th>132858</th>\n      <td>1.400000</td>\n      <td>0.800000</td>\n      <td>-0.600000</td>\n    </tr>\n    <tr>\n      <th>135104</th>\n      <td>1.428571</td>\n      <td>0.857143</td>\n      <td>-0.571429</td>\n    </tr>\n    <tr>\n      <th>132560</th>\n      <td>1.000000</td>\n      <td>0.500000</td>\n      <td>-0.500000</td>\n    </tr>\n    <tr>\n      <th>135027</th>\n      <td>1.375000</td>\n      <td>0.875000</td>\n      <td>-0.500000</td>\n    </tr>\n    <tr>\n      <th>132740</th>\n      <td>1.250000</td>\n      <td>0.750000</td>\n      <td>-0.500000</td>\n    </tr>\n    <tr>\n      <th>134992</th>\n      <td>1.500000</td>\n      <td>1.000000</td>\n      <td>-0.500000</td>\n    </tr>\n    <tr>\n      <th>132706</th>\n      <td>1.250000</td>\n      <td>0.750000</td>\n      <td>-0.500000</td>\n    </tr>\n    <tr>\n      <th>132870</th>\n      <td>1.000000</td>\n      <td>0.600000</td>\n      <td>-0.400000</td>\n    </tr>\n  </tbody>\n</table>\n</div>"
     },
     "execution_count": 25,
     "metadata": {},
     "output_type": "execute_result"
    }
   ],
   "source": [
    "sorted_by_diff = mean_ratings.sort_values(by='diff')\n",
    "sorted_by_diff[:10]"
   ],
   "metadata": {
    "collapsed": false,
    "pycharm": {
     "name": "#%%\n"
    }
   }
  },
  {
   "cell_type": "code",
   "execution_count": 26,
   "outputs": [
    {
     "data": {
      "text/plain": "         food_rating    rating      diff\nplaceID                                 \n134987      0.500000  1.000000  0.500000\n132937      1.000000  1.500000  0.500000\n135066      1.000000  1.500000  0.500000\n132851      1.000000  1.428571  0.428571\n135049      0.600000  1.000000  0.400000\n132922      1.500000  1.833333  0.333333\n135030      1.333333  1.583333  0.250000\n135063      1.000000  1.250000  0.250000\n132626      1.000000  1.250000  0.250000\n135000      1.000000  1.250000  0.250000",
      "text/html": "<div>\n<style scoped>\n    .dataframe tbody tr th:only-of-type {\n        vertical-align: middle;\n    }\n\n    .dataframe tbody tr th {\n        vertical-align: top;\n    }\n\n    .dataframe thead th {\n        text-align: right;\n    }\n</style>\n<table border=\"1\" class=\"dataframe\">\n  <thead>\n    <tr style=\"text-align: right;\">\n      <th></th>\n      <th>food_rating</th>\n      <th>rating</th>\n      <th>diff</th>\n    </tr>\n    <tr>\n      <th>placeID</th>\n      <th></th>\n      <th></th>\n      <th></th>\n    </tr>\n  </thead>\n  <tbody>\n    <tr>\n      <th>134987</th>\n      <td>0.500000</td>\n      <td>1.000000</td>\n      <td>0.500000</td>\n    </tr>\n    <tr>\n      <th>132937</th>\n      <td>1.000000</td>\n      <td>1.500000</td>\n      <td>0.500000</td>\n    </tr>\n    <tr>\n      <th>135066</th>\n      <td>1.000000</td>\n      <td>1.500000</td>\n      <td>0.500000</td>\n    </tr>\n    <tr>\n      <th>132851</th>\n      <td>1.000000</td>\n      <td>1.428571</td>\n      <td>0.428571</td>\n    </tr>\n    <tr>\n      <th>135049</th>\n      <td>0.600000</td>\n      <td>1.000000</td>\n      <td>0.400000</td>\n    </tr>\n    <tr>\n      <th>132922</th>\n      <td>1.500000</td>\n      <td>1.833333</td>\n      <td>0.333333</td>\n    </tr>\n    <tr>\n      <th>135030</th>\n      <td>1.333333</td>\n      <td>1.583333</td>\n      <td>0.250000</td>\n    </tr>\n    <tr>\n      <th>135063</th>\n      <td>1.000000</td>\n      <td>1.250000</td>\n      <td>0.250000</td>\n    </tr>\n    <tr>\n      <th>132626</th>\n      <td>1.000000</td>\n      <td>1.250000</td>\n      <td>0.250000</td>\n    </tr>\n    <tr>\n      <th>135000</th>\n      <td>1.000000</td>\n      <td>1.250000</td>\n      <td>0.250000</td>\n    </tr>\n  </tbody>\n</table>\n</div>"
     },
     "execution_count": 26,
     "metadata": {},
     "output_type": "execute_result"
    }
   ],
   "source": [
    "# Reverse order of rows, take first 10 rows\n",
    "sorted_by_diff[::-1][:10]"
   ],
   "metadata": {
    "collapsed": false,
    "pycharm": {
     "name": "#%%\n"
    }
   }
  },
  {
   "cell_type": "code",
   "execution_count": 27,
   "outputs": [
    {
     "data": {
      "text/plain": "placeID\n134987    1.154701\n135049    1.000000\n134983    1.000000\n135053    0.991031\n135027    0.991031\n132847    0.983192\n132767    0.983192\n132884    0.983192\n135082    0.971825\n132706    0.957427\nName: rating, dtype: float64"
     },
     "execution_count": 27,
     "metadata": {},
     "output_type": "execute_result"
    }
   ],
   "source": [
    "# Standard deviation of rating grouped by title\n",
    "rating_std_by_title = df.groupby('placeID')['rating'].std()\n",
    "# Filter down to active_titles\n",
    "rating_std_by_title = rating_std_by_title.loc[active_place]\n",
    "# Order Series by value in descending order\n",
    "rating_std_by_title.sort_values(ascending=False)[:10]\n"
   ],
   "metadata": {
    "collapsed": false,
    "pycharm": {
     "name": "#%%\n"
    }
   }
  }
 ],
 "metadata": {
  "kernelspec": {
   "display_name": "Python 3",
   "language": "python",
   "name": "python3"
  },
  "language_info": {
   "codemirror_mode": {
    "name": "ipython",
    "version": 2
   },
   "file_extension": ".py",
   "mimetype": "text/x-python",
   "name": "python",
   "nbconvert_exporter": "python",
   "pygments_lexer": "ipython2",
   "version": "2.7.6"
  }
 },
 "nbformat": 4,
 "nbformat_minor": 0
}