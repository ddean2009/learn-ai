{
 "cells": [
  {
   "cell_type": "markdown",
   "metadata": {
    "collapsed": true,
    "pycharm": {
     "name": "#%% md\n"
    }
   },
   "source": [
    "# Lasso回归"
   ]
  },
  {
   "cell_type": "markdown",
   "source": [
    "## 简单例子"
   ],
   "metadata": {
    "collapsed": false,
    "pycharm": {
     "name": "#%% md\n"
    }
   }
  },
  {
   "cell_type": "code",
   "execution_count": 5,
   "outputs": [
    {
     "data": {
      "text/plain": "array([0.8])"
     },
     "execution_count": 5,
     "metadata": {},
     "output_type": "execute_result"
    }
   ],
   "source": [
    "from sklearn import linear_model\n",
    "reg = linear_model.Lasso(alpha=0.1)\n",
    "reg.fit([[0, 0], [1, 1]], [0, 1])\n",
    "reg.predict([[1, 1]])\n"
   ],
   "metadata": {
    "collapsed": false,
    "pycharm": {
     "name": "#%%\n"
    }
   }
  },
  {
   "cell_type": "markdown",
   "source": [
    "## Lasso回归对于密集和稀疏矩阵的处理"
   ],
   "metadata": {
    "collapsed": false,
    "pycharm": {
     "name": "#%% md\n"
    }
   }
  },
  {
   "cell_type": "code",
   "execution_count": 6,
   "outputs": [],
   "source": [
    "from time import time\n",
    "from scipy import sparse\n",
    "from scipy import linalg\n",
    "\n",
    "from sklearn.datasets import make_regression\n",
    "from sklearn.linear_model import Lasso\n"
   ],
   "metadata": {
    "collapsed": false,
    "pycharm": {
     "name": "#%%\n"
    }
   }
  },
  {
   "cell_type": "code",
   "execution_count": 9,
   "outputs": [
    {
     "name": "stdout",
     "output_type": "stream",
     "text": [
      "--- Dense matrices\n",
      "Sparse Lasso done in 0.178681s\n",
      "Dense Lasso done in 0.040160s\n",
      "Distance between coefficients : 1.0204393146541031e-13\n"
     ]
    }
   ],
   "source": [
    "# The two Lasso implementations on Dense data\n",
    "print(\"--- Dense matrices\")\n",
    "\n",
    "X, y = make_regression(n_samples=200, n_features=5000, random_state=0)\n",
    "# 使用矩阵X构建一个坐标格式的矩阵\n",
    "X_sp = sparse.coo_matrix(X)\n",
    "\n",
    "alpha = 1\n",
    "sparse_lasso = Lasso(alpha=alpha, fit_intercept=False, max_iter=1000)\n",
    "dense_lasso = Lasso(alpha=alpha, fit_intercept=False, max_iter=1000)\n",
    "\n",
    "t0 = time()\n",
    "sparse_lasso.fit(X_sp, y)\n",
    "print(\"Sparse Lasso done in %fs\" % (time() - t0))\n",
    "\n",
    "t0 = time()\n",
    "dense_lasso.fit(X, y)\n",
    "print(\"Dense Lasso done in %fs\" % (time() - t0))\n",
    "\n",
    "# norm表示范数，默认是L2范数\n",
    "print(\"Distance between coefficients : %s\"\n",
    "      % linalg.norm(sparse_lasso.coef_ - dense_lasso.coef_))"
   ],
   "metadata": {
    "collapsed": false,
    "pycharm": {
     "name": "#%%\n"
    }
   }
  },
  {
   "cell_type": "code",
   "execution_count": 10,
   "outputs": [
    {
     "name": "stdout",
     "output_type": "stream",
     "text": [
      "--- Sparse matrices\n",
      "Matrix density : 0.6263000000000001 %\n",
      "Sparse Lasso done in 0.302144s\n",
      "Dense Lasso done in 1.441277s\n",
      "Distance between coefficients : 8.034211286713951e-12\n"
     ]
    }
   ],
   "source": [
    "# The two Lasso implementations on Sparse data\n",
    "print(\"--- Sparse matrices\")\n",
    "\n",
    "Xs = X.copy()\n",
    "Xs[Xs < 2.5] = 0.0\n",
    "Xs = sparse.coo_matrix(Xs)\n",
    "# csc_matrix压缩稀疏列矩阵\n",
    "Xs = Xs.tocsc()\n",
    "\n",
    "print(\"Matrix density : %s %%\" % (Xs.nnz / float(X.size) * 100))\n",
    "\n",
    "alpha = 0.1\n",
    "sparse_lasso = Lasso(alpha=alpha, fit_intercept=False, max_iter=10000)\n",
    "dense_lasso = Lasso(alpha=alpha, fit_intercept=False, max_iter=10000)\n",
    "\n",
    "t0 = time()\n",
    "sparse_lasso.fit(Xs, y)\n",
    "print(\"Sparse Lasso done in %fs\" % (time() - t0))\n",
    "\n",
    "t0 = time()\n",
    "dense_lasso.fit(Xs.toarray(), y)\n",
    "print(\"Dense Lasso done in %fs\" % (time() - t0))\n",
    "\n",
    "print(\"Distance between coefficients : %s\"\n",
    "      % linalg.norm(sparse_lasso.coef_ - dense_lasso.coef_))\n",
    "\n"
   ],
   "metadata": {
    "collapsed": false,
    "pycharm": {
     "name": "#%%\n"
    }
   }
  }
 ],
 "metadata": {
  "kernelspec": {
   "display_name": "Python 3",
   "language": "python",
   "name": "python3"
  },
  "language_info": {
   "codemirror_mode": {
    "name": "ipython",
    "version": 2
   },
   "file_extension": ".py",
   "mimetype": "text/x-python",
   "name": "python",
   "nbconvert_exporter": "python",
   "pygments_lexer": "ipython2",
   "version": "2.7.6"
  }
 },
 "nbformat": 4,
 "nbformat_minor": 0
}