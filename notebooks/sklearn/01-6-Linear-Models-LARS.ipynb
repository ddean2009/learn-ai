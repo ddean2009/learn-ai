{
 "cells": [
  {
   "cell_type": "markdown",
   "metadata": {
    "collapsed": true,
    "pycharm": {
     "name": "#%% md\n"
    }
   },
   "source": [
    "# 最小角度回归LARS"
   ]
  },
  {
   "cell_type": "markdown",
   "metadata": {
    "pycharm": {
     "name": "#%% md\n"
    }
   },
   "source": [
    "## LARS的简单例子"
   ]
  },
  {
   "cell_type": "code",
   "execution_count": 2,
   "metadata": {
    "pycharm": {
     "name": "#%%\n"
    }
   },
   "outputs": [
    {
     "name": "stdout",
     "output_type": "stream",
     "text": [
      "[ 0.     -1.1111]\n"
     ]
    }
   ],
   "source": [
    "from sklearn import linear_model\n",
    "reg = linear_model.Lars(n_nonzero_coefs=1)\n",
    "reg.fit([[-1, 1], [0, 0], [1, 1]], [-1.1111, 0, -1.1111])\n",
    "print(reg.coef_)"
   ]
  },
  {
   "cell_type": "markdown",
   "metadata": {
    "pycharm": {
     "name": "#%% md\n"
    }
   },
   "source": [
    "## lasso的LARS实现"
   ]
  },
  {
   "cell_type": "code",
   "execution_count": 3,
   "metadata": {
    "pycharm": {
     "name": "#%%\n"
    }
   },
   "outputs": [
    {
     "name": "stdout",
     "output_type": "stream",
     "text": [
      "[ 0.         -0.96325765]\n"
     ]
    }
   ],
   "source": [
    "from sklearn import linear_model\n",
    "reg = linear_model.LassoLars(alpha=0.01)\n",
    "reg.fit([[-1, 1], [0, 0], [1, 1]], [-1, 0, -1])\n",
    "print(reg.coef_)"
   ]
  },
  {
   "cell_type": "markdown",
   "metadata": {
    "pycharm": {
     "name": "#%% md\n"
    }
   },
   "source": [
    "## LassoLars的糖尿病数据分析"
   ]
  },
  {
   "cell_type": "code",
   "execution_count": 4,
   "metadata": {
    "pycharm": {
     "name": "#%%\n"
    }
   },
   "outputs": [],
   "source": [
    "# Author: Fabian Pedregosa <fabian.pedregosa@inria.fr>\n",
    "#         Alexandre Gramfort <alexandre.gramfort@inria.fr>\n",
    "# License: BSD 3 clause\n",
    "\n",
    "import numpy as np\n",
    "import matplotlib.pyplot as plt\n",
    "plt.rcParams['font.sans-serif'] = ['Arial Unicode MS'] #用来正常显示中文标签\n",
    "plt.rcParams['axes.unicode_minus']=False #用来正常显示负号\n",
    "\n",
    "from sklearn import linear_model\n",
    "from sklearn import datasets"
   ]
  },
  {
   "cell_type": "code",
   "execution_count": 5,
   "metadata": {
    "pycharm": {
     "name": "#%%\n"
    }
   },
   "outputs": [
    {
     "name": "stdout",
     "output_type": "stream",
     "text": [
      "使用LARS计算正则化路径 ...\n",
      "."
     ]
    },
    {
     "data": {
      "text/plain": [
       "(array([2.14804358, 2.01202713, 1.02466283, 0.71509967, 0.29441369,\n",
       "        0.20086523, 0.15602991, 0.04520646, 0.01239247, 0.01151398,\n",
       "        0.00493722, 0.00296479, 0.        ]),\n",
       " array([[   0.        ,    0.        ,    0.        ,    0.        ,\n",
       "            0.        ,    0.        ,    0.        ,    0.        ,\n",
       "            0.        ,    0.        ,   -5.718948  ,   -7.01124515,\n",
       "          -10.01219782],\n",
       "        [   0.        ,    0.        ,    0.        ,    0.        ,\n",
       "            0.        ,  -74.91651394, -111.97855446, -197.75650114,\n",
       "         -226.13366183, -227.17579824, -234.39762164, -237.100786  ,\n",
       "         -239.81908937],\n",
       "        [   0.        ,   60.11926965,  361.89461246,  434.75795962,\n",
       "          505.65955847,  511.3480707 ,  512.04408899,  522.26484702,\n",
       "          526.88546671,  526.39059435,  522.64878576,  521.0751302 ,\n",
       "          519.83978679],\n",
       "        [   0.        ,    0.        ,    0.        ,   79.23644688,\n",
       "          191.26988358,  234.15461616,  252.5270165 ,  297.15973689,\n",
       "          314.38927158,  314.95046722,  320.34255435,  321.54902678,\n",
       "          324.39042769],\n",
       "        [   0.        ,    0.        ,    0.        ,    0.        ,\n",
       "            0.        ,    0.        ,    0.        , -103.94624877,\n",
       "         -195.10582951, -237.34097312, -554.26632775, -580.43860015,\n",
       "         -792.18416163],\n",
       "        [   0.        ,    0.        ,    0.        ,    0.        ,\n",
       "            0.        ,    0.        ,    0.        ,    0.        ,\n",
       "            0.        ,   33.62827441,  286.73616838,  313.86213164,\n",
       "          476.74583782],\n",
       "        [   0.        ,    0.        ,    0.        ,    0.        ,\n",
       "         -114.10097989, -169.71139351, -196.04544329, -223.92603334,\n",
       "         -152.47725949, -134.59935205,    0.        ,    0.        ,\n",
       "          101.04457032],\n",
       "        [   0.        ,    0.        ,    0.        ,    0.        ,\n",
       "            0.        ,    0.        ,    0.        ,    0.        ,\n",
       "          106.34280588,  111.38412869,  148.90044464,  139.85786767,\n",
       "          177.06417623],\n",
       "        [   0.        ,    0.        ,  301.77534281,  374.91583685,\n",
       "          439.66494176,  450.66744821,  452.39272771,  514.74948085,\n",
       "          529.91603066,  545.48259721,  663.03328729,  674.93661678,\n",
       "          751.27932109],\n",
       "        [   0.        ,    0.        ,    0.        ,    0.        ,\n",
       "            0.        ,    0.        ,   12.07815226,   54.76768063,\n",
       "           64.4874179 ,   64.60667013,   66.33095501,   67.17939964,\n",
       "           67.62538639]]))"
      ]
     },
     "execution_count": 5,
     "metadata": {},
     "output_type": "execute_result"
    }
   ],
   "source": [
    "X, y = datasets.load_diabetes(return_X_y=True)\n",
    "\n",
    "print(\"使用LARS计算正则化路径 ...\")\n",
    "alphas, active, coefs = linear_model.lars_path(X, y, method='lasso', verbose=True)\n",
    "alphas,coefs"
   ]
  },
  {
   "cell_type": "code",
   "execution_count": 6,
   "metadata": {
    "pycharm": {
     "name": "#%%\n"
    }
   },
   "outputs": [],
   "source": [
    "# coefs是10* 13 矩阵，coefs.T 就是13 * 10矩阵\n",
    "# axis =1, 意思是把每行的数据加起来，结果zz是13个元素的ndarray\n",
    "# alphas是变小的，所以sum值会逐渐变大\n",
    "zz = np.sum(np.abs(coefs.T), axis=1)\n",
    "xx = zz/zz[-1]"
   ]
  },
  {
   "cell_type": "code",
   "execution_count": 7,
   "metadata": {
    "pycharm": {
     "name": "#%%\n"
    }
   },
   "outputs": [
    {
     "data": {
      "image/png": "[encoded data removed]",
      "text/plain": [
       "<Figure size 432x288 with 1 Axes>"
      ]
     },
     "metadata": {
      "needs_background": "light"
     },
     "output_type": "display_data"
    }
   ],
   "source": [
    "# 作10条线，每条线上13个点\n",
    "plt.plot(xx, coefs.T)\n",
    "ymin, ymax = plt.ylim()\n",
    "plt.vlines(xx, ymin, ymax, linestyle='dashed')\n",
    "plt.xlabel('|coef| / max|coef|')\n",
    "plt.ylabel('系数')\n",
    "plt.title('LASSO路径')\n",
    "plt.axis('tight')\n",
    "plt.show()"
   ]
  }
 ],
 "metadata": {
  "kernelspec": {
   "display_name": "Python 3",
   "language": "python",
   "name": "python3"
  },
  "language_info": {
   "codemirror_mode": {
    "name": "ipython",
    "version": 3
   },
   "file_extension": ".py",
   "mimetype": "text/x-python",
   "name": "python",
   "nbconvert_exporter": "python",
   "pygments_lexer": "ipython3",
   "version": "3.8.5"
  }
 },
 "nbformat": 4,
 "nbformat_minor": 1
}